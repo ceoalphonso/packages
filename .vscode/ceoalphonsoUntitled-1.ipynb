{
 "cells": [
  {
   "cell_type": "code",
   "execution_count": null,
   "metadata": {},
   "outputs": [],
   "source": []
  }
 ],
 "metadata": {
  "kernelspec": {
   "display_name": "Python 3.10.8 64-bit (microsoft store)",
   "language": "python",
   "name": "python3"
  },
  "language_info": {
   "name": "python",
   "version": "3.10.8"
  },
  "orig_nbformat": 4,
  "vscode": {
   "interpreter": {
    "hash": "c532aac93536eea0511d521de5905bd30ffde4ab0bf89e0c6b3da3952efd1f14"
   }
  }
 },
 "nbformat": 4,
 "nbformat_minor": 2
}
